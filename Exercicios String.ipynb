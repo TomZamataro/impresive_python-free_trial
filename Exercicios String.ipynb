{
 "cells": [
  {
   "cell_type": "markdown",
   "metadata": {},
   "source": [
    "# Exercícios\n",
    "\n",
    "## 1. Cadastro de CPF\n",
    "\n",
    "Crie um programa para cadastro de CPF de clientes que recebe o CPF em um input box apenas com números.\n",
    "\n",
    "Ex: 'Insira seu CPF (digite apenas números)'\n",
    "\n",
    "Caso o usuário digite algo diferente de números ou digite menos de 11 caracteres (tamanho do CPF brasileiro), o programa deve exibir uma mensagem de \"Digite seu CPF corretamente e digite apenas números\""
   ]
  },
  {
   "cell_type": "code",
   "execution_count": 7,
   "metadata": {},
   "outputs": [
    {
     "name": "stdout",
     "output_type": "stream",
     "text": [
      " Insira seu CPF (apenas números):  07899334977    \n"
     ]
    }
   ],
   "source": [
    "clCpf = input(' Insira seu CPF (apenas números): ')\n",
    "clCpf = clCpf.strip()\n",
    "if len(clCpf) != 11 or not clCpf.isnumeric():\n",
    "    print(' Digite seu CPF corretamente e digite apenas números')"
   ]
  },
  {
   "cell_type": "markdown",
   "metadata": {},
   "source": [
    "## 2. Melhorando nosso Cadastro de CPF\n",
    "\n",
    "Agora, além das validações anteriores, vamos criar um input que permita que o usuário insira pontos, traços e inclusive espaços vazios.\n",
    "\n",
    "Nosso programa deve \"tratar\" o que o usuário inserir para padronizar o CPF dele em apenas números.\n",
    "\n",
    "A verificação de tamanho do CPF com 11 caracteres continua válida, mas ela só deve ser feita depois de retirar todos os pontos, traços e espaços do CPF que o cliente inserir e, uma vez retirados pontos, traços e espaços, devem sobrar apenas números no CPF. Qualquer outro caractere deve ser considerado inválido.\n",
    "\n",
    "\n",
    "No final, nosso programa deve exibir uma mensagem para o usuário, caso ele tenha inserido o CPF inválido ou então apenas deve printar o CPF correto já só com número."
   ]
  },
  {
   "cell_type": "code",
   "execution_count": 20,
   "metadata": {},
   "outputs": [
    {
     "name": "stdout",
     "output_type": "stream",
     "text": [
      " Insira seu CPF:  078.993.349-77.,.,.,.,,.        \n",
      " Seu CPF: 07899334977\n"
     ]
    }
   ],
   "source": [
    "def clCpfTreatment(cpf = str()) -> [str(), bool()]:\n",
    "    invalidCh = ['.', ',', '-', ' ']\n",
    "    cpf = cpf.strip()\n",
    "    for ch in invalidCh:\n",
    "        cpf = cpf.replace(ch, '')\n",
    "    return [cpf, clCpfValid(cpf)]\n",
    "\n",
    "def clCpfValid(cpf = str()) -> bool():\n",
    "    if len(cpf) != 11 or not cpf.isnumeric(): return False\n",
    "    else: return True\n",
    "\n",
    "clCpfInfo = clCpfTreatment(input(' Insira seu CPF: '))\n",
    "if clCpfInfo[1]: print(f' Seu CPF: {clCpfInfo[0]}')\n",
    "else: print(' Digite seu CPF corretamente e digite apenas números')"
   ]
  },
  {
   "cell_type": "markdown",
   "metadata": {},
   "source": [
    "## 3. Cadastro de e-mails\n",
    "\n",
    "- A Hashtag sempre se comunica com seus clientes por e-mail. Para isso, a gente tem em cada página um cadastro de nome e e-mail. Nesse cadastro, nosso sistema verifica se o e-mail que a pessoa inseriu é um e-mail válido, verificando se ele tem '@' e se depois do '@' tem algum ponto, afinal:\n",
    "\n",
    "- liragmail.com NÃO é um e-mail válido\n",
    "- lira@gmail NÃO é um e-mail válido\n",
    "- lira@gmail.com é um e-mail válido\n",
    "\n",
    "Crie um programa que permita o cadastro de nome e e-mail de uma pessoa (por meio de inputs) e que verifique:\n",
    "1. Se nome e e-mail foram preenchidos, caso contrário ele deve avisar para preencher todos os dados corretamente\n",
    "2. Se o e-mail contém '@' e se depois do '@' existe algum '.', caso contrário ele deve exibir uma mensagem de e-mail inválido\n",
    "\n",
    "Obs: Pode te ajudar lembrar do método .find da aula de Métodos de String. Você pode testar o que ele dá como resposta caso ele não encontre um item dentro da string"
   ]
  },
  {
   "cell_type": "code",
   "execution_count": 37,
   "metadata": {},
   "outputs": [
    {
     "name": "stdout",
     "output_type": "stream",
     "text": [
      " Insira seu nome: \n",
      " Nome não informado\n"
     ]
    }
   ],
   "source": [
    "def clValidEmail(eml = str()) -> bool():\n",
    "    eml = eml.strip()\n",
    "    if eml.find('@') != -1 and '.' in eml[eml.find('@'):]: return True\n",
    "    else: return False\n",
    "\n",
    "clName = input(' Insira seu nome: ')\n",
    "if not clName: print(' Nome não informado')\n",
    "else:\n",
    "    clEmail = input(' Insira seu email: ')\n",
    "    if not clEmail: print(' Email não informado')\n",
    "    else:\n",
    "        if clName and clEmail:\n",
    "            if not clValidEmail(clEmail): print(' O email informado é invalido')\n",
    "            else: print(' Cadastro feito com sucesso')\n",
    "        else: print(' Dados preenchidos incorretamente')"
   ]
  }
 ],
 "metadata": {
  "kernelspec": {
   "display_name": "Python 3",
   "language": "python",
   "name": "python3"
  },
  "language_info": {
   "codemirror_mode": {
    "name": "ipython",
    "version": 3
   },
   "file_extension": ".py",
   "mimetype": "text/x-python",
   "name": "python",
   "nbconvert_exporter": "python",
   "pygments_lexer": "ipython3",
   "version": "3.8.5"
  }
 },
 "nbformat": 4,
 "nbformat_minor": 4
}
