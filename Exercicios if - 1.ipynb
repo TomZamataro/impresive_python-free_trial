{
 "cells": [
  {
   "cell_type": "markdown",
   "metadata": {},
   "source": [
    "# Exercícios com if"
   ]
  },
  {
   "cell_type": "markdown",
   "metadata": {},
   "source": [
    "## 1. Cálculo de Bônus\n",
    "\n",
    "- Crie um programa que calcule e dê um print no bônus que os funcionários devem receber segundo a regra:\n",
    "\n",
    "A meta é 1000 vendas.<br> \n",
    "Se o valor de vendas for maior ou igual a meta, o valor do bônus do funcionário é 10% do valor de vendas.<br>\n",
    "Caso contrário o valor de bônus do funcionário é 0.<br>\n",
    "Print o bônus dos 3 funcionários"
   ]
  },
  {
   "cell_type": "code",
   "execution_count": 4,
   "metadata": {},
   "outputs": [
    {
     "name": "stdout",
     "output_type": "stream",
     "text": [
      " O bonus do funcionario 1 é de: R$100.00\n",
      " O bonus do funcionario 2 é de: R$0.00\n",
      " O bonus do funcionario 3 é de: R$270.00\n"
     ]
    }
   ],
   "source": [
    "def CheckBonus(epSls = float()) -> float():\n",
    "    if epSls >= 1000: return 0.10 * epSls\n",
    "    else: return 0\n",
    "\n",
    "ep1Sales = 1000\n",
    "ep2Sales = 770\n",
    "ep3Sales = 2700\n",
    "print(f' O bonus do funcionario 1 é de: R${CheckBonus(ep1Sales):.2f}\\n' +\n",
    "      f' O bonus do funcionario 2 é de: R${CheckBonus(ep2Sales):.2f}\\n' +\n",
    "      f' O bonus do funcionario 3 é de: R${CheckBonus(ep3Sales):.2f}'.format())"
   ]
  },
  {
   "cell_type": "markdown",
   "metadata": {},
   "source": [
    "## 2. Cálculo de bônus com uma nova regra\n",
    "\n",
    "- Agora, crie um novo código que calcule e dê um print no bônus dos funcionários novamente. Porém há uma nova regra nesse 2º caso:\n",
    "\n",
    "A meta é 1000 vendas<br>\n",
    "Agora, os funcionários que venderem muito acima da meta ganham mais bônus do que os outros. Então o bônus é definido da seguinte forma:<br>\n",
    "\n",
    "- Se vendas funcionário for maior ou igual a 2000, então o bônus é de 15% sobre o valor de vendas\n",
    "- Se vendas funcionário for menor do que 2000 e maior ou igual a 1000, então o bônus é de 10% sobre o valor de vendas\n",
    "- Se vendas funcionário for menos do que 1000 então o bônus do funcionário é de 0.\n",
    "\n",
    "Use as mesmas variáveis de vendas_funcionários"
   ]
  },
  {
   "cell_type": "code",
   "execution_count": 5,
   "metadata": {},
   "outputs": [
    {
     "name": "stdout",
     "output_type": "stream",
     "text": [
      " O bonus do funcionario 1 é de: R$100.00\n",
      " O bonus do funcionario 2 é de: R$0.00\n",
      " O bonus do funcionario 3 é de: R$405.00\n"
     ]
    }
   ],
   "source": [
    "def CheckBonus(epSls = float()) -> float():\n",
    "    if epSls >= 2000: return 0.15 * epSls\n",
    "    elif epSls >= 1000: return 0.10 * epSls\n",
    "    else: return 0\n",
    "\n",
    "print(f' O bonus do funcionario 1 é de: R${CheckBonus(ep1Sales):.2f}\\n' +\n",
    "      f' O bonus do funcionario 2 é de: R${CheckBonus(ep2Sales):.2f}\\n' +\n",
    "      f' O bonus do funcionario 3 é de: R${CheckBonus(ep3Sales):.2f}'.format())"
   ]
  }
 ],
 "metadata": {
  "kernelspec": {
   "display_name": "Python 3",
   "language": "python",
   "name": "python3"
  },
  "language_info": {
   "codemirror_mode": {
    "name": "ipython",
    "version": 3
   },
   "file_extension": ".py",
   "mimetype": "text/x-python",
   "name": "python",
   "nbconvert_exporter": "python",
   "pygments_lexer": "ipython3",
   "version": "3.8.5"
  }
 },
 "nbformat": 4,
 "nbformat_minor": 4
}
