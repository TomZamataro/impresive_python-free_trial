{
 "cells": [
  {
   "cell_type": "markdown",
   "metadata": {},
   "source": [
    "# Exercícios\n",
    "\n",
    "## 1. Calculando % de uma lista\n",
    "\n",
    "Faremos algo parecido com \"filtrar\" uma lista. Mais pra frente no curso aprenderemos outras formas de fazer isso, mas com o nosso conhecimentoa atual já conseguimos resolver o desafio.\n",
    "\n",
    "Digamos que a gente tenha uma lista de vendedores e ao invés de saber todos os vendedores que bateram a meta, eu quero conseguir calcular o % de vendedores que bateram a meta. Ou seja, se temos 10 vendedores e 3 bateram a meta, temos 30% dos vendedores que bateram a meta."
   ]
  },
  {
   "cell_type": "markdown",
   "metadata": {},
   "source": [
    "### Second way(better)"
   ]
  },
  {
   "cell_type": "code",
   "execution_count": 2,
   "metadata": {},
   "outputs": [
    {
     "name": "stdout",
     "output_type": "stream",
     "text": [
      " 50% dos vendedores bateram a meta.\n"
     ]
    }
   ],
   "source": [
    "meta = 10000\n",
    "vendas = [\n",
    "    ['João', 15000],\n",
    "    ['Julia', 27000],\n",
    "    ['Marcus', 9900],\n",
    "    ['Maria', 3750],\n",
    "    ['Ana', 10300],\n",
    "    ['Alon', 7870],\n",
    "]\n",
    "qnttGoalReached = 0\n",
    "for epl in vendas:\n",
    "    if epl[1] >= meta:\n",
    "        qnttGoalReached += 1\n",
    "print(f' {(qnttGoalReached / len(vendas)):.0%} dos vendedores bateram a meta.'.format())"
   ]
  },
  {
   "cell_type": "markdown",
   "metadata": {},
   "source": [
    "### Fist way"
   ]
  },
  {
   "cell_type": "code",
   "execution_count": 11,
   "metadata": {},
   "outputs": [
    {
     "name": "stdout",
     "output_type": "stream",
     "text": [
      " 50% dos vendedores bateram a meta.\n"
     ]
    }
   ],
   "source": [
    "goalReachedOnes = list()\n",
    "for epl in vendas:\n",
    "    if epl[1] >= meta:\n",
    "        goalReachedOnes.append(epl)\n",
    "print(f' {(len(goalReachedOnes) / len(vendas)):.0%} dos vendedores bateram a meta.'.format())"
   ]
  },
  {
   "cell_type": "markdown",
   "metadata": {},
   "source": [
    "- Vamos resolver de 2 formas:\n",
    "    1. Criando uma lista auxiliar apenas com os vendedores que bateram a meta\n",
    "    2. Fazendo o cálculo diretamente na lista que já temos"
   ]
  },
  {
   "cell_type": "markdown",
   "metadata": {},
   "source": [
    "## Para treinar uma estrutura parecida, crie um código para responder: quem foi o vendedor que mais vendeu?"
   ]
  },
  {
   "cell_type": "code",
   "execution_count": 10,
   "metadata": {},
   "outputs": [
    {
     "name": "stdout",
     "output_type": "stream",
     "text": [
      " 'Julia' foi funcionario(a) que mais vendeu, com R$27,000.00 em vendas, representando 36.58% do total de vendas.\n"
     ]
    }
   ],
   "source": [
    "totalSale = 0\n",
    "soldMore = ['', 0]\n",
    "for epl in vendas:\n",
    "    totalSale += epl[1]\n",
    "for epl in vendas:\n",
    "    if epl[1] > soldMore[1]:\n",
    "        soldMore = epl.copy()\n",
    "print(f' \\'{soldMore[0]}\\' foi funcionario(a) que mais vendeu, com R${soldMore[1]:,.2f} em vendas,' +\n",
    "      f' representando {(soldMore[1] / totalSale):.2%} do total de vendas.')"
   ]
  }
 ],
 "metadata": {
  "kernelspec": {
   "display_name": "Python 3",
   "language": "python",
   "name": "python3"
  },
  "language_info": {
   "codemirror_mode": {
    "name": "ipython",
    "version": 3
   },
   "file_extension": ".py",
   "mimetype": "text/x-python",
   "name": "python",
   "nbconvert_exporter": "python",
   "pygments_lexer": "ipython3",
   "version": "3.8.5"
  }
 },
 "nbformat": 4,
 "nbformat_minor": 4
}
