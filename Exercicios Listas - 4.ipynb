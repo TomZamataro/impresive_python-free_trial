{
 "cells": [
  {
   "cell_type": "markdown",
   "metadata": {},
   "source": [
    "# Alterações de Variáveis\n",
    "\n",
    "Estrutura:\n",
    "\n",
    "- variavel = variavel + outro_valor\n",
    "\n",
    "ou então\n",
    "\n",
    "- variavel += outro_valor"
   ]
  },
  {
   "cell_type": "markdown",
   "metadata": {},
   "source": [
    "Exemplo: vamos adicionar às variáveis criadas o Produto IPad, 500 vendas"
   ]
  },
  {
   "cell_type": "code",
   "execution_count": 7,
   "metadata": {},
   "outputs": [
    {
     "name": "stdout",
     "output_type": "stream",
     "text": [
      " Esse mês vendemos um total de 800 produtos, sendo:\n",
      " 100 unidades de mac\n",
      " 200 unidades de iphone\n",
      " 500 unidades de IPad\n"
     ]
    }
   ],
   "source": [
    "lista = ['mac', 'iphone']\n",
    "vendas = [100, 200]\n",
    "\n",
    "#adicionando IPad na lista\n",
    "\n",
    "lista += ['IPad']\n",
    "vendas += [500]\n",
    "\n",
    "#adicionando na soma a quantidade de IPad\n",
    "\n",
    "soma_vendas = 300\n",
    "\n",
    "soma_vendas += vendas[2]\n",
    "# or soma_vendas = sum(vendas)\n",
    "\n",
    "#adicionando no fim do texto o Ipad\n",
    "email = f' Esse mês vendemos um total de {soma_vendas} produtos, sendo:\\n {vendas[0]} unidades de {lista[0]}\\n {vendas[1]} unidades de {lista[1]}'.format()\n",
    "\n",
    "email += f'\\n {vendas[2]} unidades de {lista[2]}'\n",
    "\n",
    "print(email)"
   ]
  }
 ],
 "metadata": {
  "kernelspec": {
   "display_name": "Python 3",
   "language": "python",
   "name": "python3"
  },
  "language_info": {
   "codemirror_mode": {
    "name": "ipython",
    "version": 3
   },
   "file_extension": ".py",
   "mimetype": "text/x-python",
   "name": "python",
   "nbconvert_exporter": "python",
   "pygments_lexer": "ipython3",
   "version": "3.8.5"
  }
 },
 "nbformat": 4,
 "nbformat_minor": 4
}
