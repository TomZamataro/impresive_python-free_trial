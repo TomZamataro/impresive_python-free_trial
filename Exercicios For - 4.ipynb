{
 "cells": [
  {
   "cell_type": "markdown",
   "metadata": {},
   "source": [
    "# Exercícios\n",
    "\n",
    "## 1. Criando um Registro de Hóspedes\n",
    "\n",
    "Digamos que você está criando o sistema para registrar a chegada de hóspedes em um hotel. No hotel, os hóspedes podem ter quartos com 1, 2, 3 e 4 pessoas. Seu sistema deve conseguir:\n",
    "\n",
    "1. Identificar quantas pessoas o hóspede que acabou de chegar vai ter no quarto (perguntando por meio de input)\n",
    "2. De acordo com a quantidade de pessoas do hóspede, ele deve fazer um for para perguntar o cpf e o nome de cada pessoa, a fim de registrá-la no quarto (2 inputs para cada pessoa, 1 para o cpf e outro para o nome)\n",
    "3. O seu programa então deve gerar uma lista com todas as pessoas que ficarão no quarto em que cada item dessa lista é o nome da pessoa e o cpf da pessoa, assim:"
   ]
  },
  {
   "cell_type": "raw",
   "metadata": {},
   "source": [
    "quarto = [\n",
    "    ['João', 'cpf:00000000000'],\n",
    "    ['Julia', 'cpf:11111111111'],\n",
    "    ['Marcus', 'cpf:22222222222'],\n",
    "    ['Maria', 'cpf:33333333333'],\n",
    "]"
   ]
  },
  {
   "cell_type": "markdown",
   "metadata": {},
   "source": [
    "- Para simplificar, não vamos nos preocupar com possibilidades de \"tentar colocar mais de 1 hóspede, digitar o cpf errado, etc. Nosso objetivo é treinar a criação de uma rotina de cadastro"
   ]
  },
  {
   "cell_type": "code",
   "execution_count": 54,
   "metadata": {},
   "outputs": [
    {
     "name": "stdout",
     "output_type": "stream",
     "text": [
      " Quantas pessoas vão se hospedar no quarto? 2\n",
      " Nome da 1º pessoa: tom\n",
      " CPF da 1º pessoa: 07899334977\n",
      " Nome da 2º pessoa: camila\n",
      " CPF da 2º pessoa: 07899334977\n",
      "\n",
      "\n",
      " hospedes do quarto x:\n",
      "\n",
      " -tom, cpf: 07899334977;\n",
      " -camila, cpf: 07899334977.\n"
     ]
    }
   ],
   "source": [
    "room = list()\n",
    "\n",
    "# for i in range(int(input(' Quantas pessoas vão se hospedar no quarto? '))):\n",
    "#     room.append([input(f' Nome da {i + 1}º pessoa: '), 'cpf:' + input(f' CPF da {i + 1}º pessoa: ')])\n",
    "# print(room)\n",
    "# or:\n",
    "\n",
    "do = True\n",
    "roomCnt = input(' Quantas pessoas vão se hospedar no quarto? ')\n",
    "if roomCnt:\n",
    "    for i in range(int(roomCnt)):\n",
    "        pName = input(f' Nome da {i + 1}º pessoa: ')\n",
    "        if pName:\n",
    "            pCpf = input(f' CPF da {i + 1}º pessoa: ')\n",
    "            if pCpf and len(pCpf) == 11:\n",
    "                room.append([pName, f'cpf:{pCpf}'])\n",
    "            else:\n",
    "                do = False\n",
    "                print(' Insira o CPF, corretamente, de todos que vão se hospedar.')\n",
    "                break\n",
    "        else:\n",
    "            do = False\n",
    "            print(' Insira um nome para todos que vão se hospedar.')\n",
    "            break\n",
    "    if do:\n",
    "        for i in range(len(room)):\n",
    "            if i != (len(room) - 1): room[i][1] += ';'\n",
    "            else: room[i][1] += '.'\n",
    "            room[i] = ', '.join(room[i])\n",
    "            room[i] = room[i].replace(':', ': ')\n",
    "        txt = '\\n -'.join(room)\n",
    "        txt = ' -' + txt\n",
    "        txt = '\\n hospedes do quarto x:\\n\\n' + txt\n",
    "        print('\\n' + txt)\n",
    "else: print(' Insira o numero de pessoas que vão se hospedar.')"
   ]
  },
  {
   "cell_type": "markdown",
   "metadata": {},
   "source": [
    "## 2. Análise de Vendas\n",
    "\n",
    "Nesse exercício vamos fazer uma \"análise simples\" de atingimento de Meta.\n",
    "\n",
    "Temos uma lista com os vendedores e os valores de vendas e queremos identificar (printar) quais os vendedores que bateram a meta e qual foi o valor que eles venderam."
   ]
  },
  {
   "cell_type": "code",
   "execution_count": 11,
   "metadata": {},
   "outputs": [
    {
     "name": "stdout",
     "output_type": "stream",
     "text": [
      "  O vendedor 'João' bateu a meta com R$15,000.00 em vendas;\n",
      "  O vendedor 'Julia' bateu a meta com R$27,000.00 em vendas;\n",
      "  O vendedor 'Ana' bateu a meta com R$10,300.00 em vendas.\n"
     ]
    }
   ],
   "source": [
    "meta = 10000\n",
    "vendas = [\n",
    "    ['João', 15000],\n",
    "    ['Julia', 27000],\n",
    "    ['Marcus', 9900],\n",
    "    ['Maria', 3750],\n",
    "    ['Ana', 10300],\n",
    "    ['Alon', 7870],\n",
    "]\n",
    "txt = list()\n",
    "for epl in vendas:\n",
    "    if epl[1] >= meta:\n",
    "        txt.append(f' O vendedor \\'{epl[0]}\\' bateu a meta com R${epl[1]:,.2f} em vendas;'.format())\n",
    "txt[0] = ' ' + txt[0]\n",
    "txt[len(txt) - 1] = txt[len(txt) - 1].replace(';', '.')\n",
    "print('\\n '.join(txt))"
   ]
  },
  {
   "cell_type": "markdown",
   "metadata": {},
   "source": [
    "## 3. Comparação com Ano Anterior\n",
    "\n",
    "Digamos que você está analisando as vendas de produtos de um ecommerce e quer identificar quais produtos tiveram no ano de 2020 mais vendas do que no ano de 2019, para reportar isso para a diretoria.\n",
    "\n",
    "Sua resposta pode ser um print de cada produto, qual foi a venda de 2019, a venda de 2020 e o % de crescimento de 2020 para 2019.\n",
    "\n",
    "Lembrando, para calcular o % de crescimento de um produto de um ano para o outro, podemos fazer: (vendas_produto2020/vendas_produto2019 - 1)\n",
    "\n",
    "Dica: lembre do enumerate, ele pode facilitar seu \"for\""
   ]
  },
  {
   "cell_type": "code",
   "execution_count": 21,
   "metadata": {},
   "outputs": [
    {
     "name": "stdout",
     "output_type": "stream",
     "text": [
      " O produto 'iphone' vendeu 558147 unidades em 2019 e 951642 em 2020, tendo uma variação de 70.50% entre 2019 e 2020.\n",
      "\n",
      " O produto 'galaxy' vendeu 712350 unidades em 2019 e 244295 em 2020, tendo uma variação de -65.71% entre 2019 e 2020.\n",
      "\n",
      " O produto 'ipad' vendeu 573823 unidades em 2019 e 26964 em 2020, tendo uma variação de -95.30% entre 2019 e 2020.\n",
      "\n",
      " O produto 'tv' vendeu 405252 unidades em 2019 e 787604 em 2020, tendo uma variação de 94.35% entre 2019 e 2020.\n",
      "\n",
      " O produto 'máquina de café' vendeu 718654 unidades em 2019 e 867660 em 2020, tendo uma variação de 20.73% entre 2019 e 2020.\n",
      "\n",
      " O produto 'kindle' vendeu 531580 unidades em 2019 e 78830 em 2020, tendo uma variação de -85.17% entre 2019 e 2020.\n",
      "\n",
      " O produto 'geladeira' vendeu 973139 unidades em 2019 e 710331 em 2020, tendo uma variação de -27.01% entre 2019 e 2020.\n",
      "\n",
      " O produto 'adega' vendeu 892292 unidades em 2019 e 646016 em 2020, tendo uma variação de -27.60% entre 2019 e 2020.\n",
      "\n",
      " O produto 'notebook dell' vendeu 422760 unidades em 2019 e 694913 em 2020, tendo uma variação de 64.38% entre 2019 e 2020.\n",
      "\n",
      " O produto 'notebook hp' vendeu 154753 unidades em 2019 e 539704 em 2020, tendo uma variação de 248.75% entre 2019 e 2020.\n",
      "\n",
      " O produto 'notebook asus' vendeu 887061 unidades em 2019 e 324831 em 2020, tendo uma variação de -63.38% entre 2019 e 2020.\n",
      "\n",
      " O produto 'microsoft surface' vendeu 438508 unidades em 2019 e 667179 em 2020, tendo uma variação de 52.15% entre 2019 e 2020.\n",
      "\n",
      " O produto 'webcam' vendeu 237467 unidades em 2019 e 295633 em 2020, tendo uma variação de 24.49% entre 2019 e 2020.\n",
      "\n",
      " O produto 'caixa de som' vendeu 489705 unidades em 2019 e 725316 em 2020, tendo uma variação de 48.11% entre 2019 e 2020.\n",
      "\n",
      " O produto 'microfone' vendeu 328311 unidades em 2019 e 644622 em 2020, tendo uma variação de 96.34% entre 2019 e 2020.\n",
      "\n",
      " O produto 'câmera canon' vendeu 591120 unidades em 2019 e 994303 em 2020, tendo uma variação de 68.21% entre 2019 e 2020.\n",
      "\n"
     ]
    }
   ],
   "source": [
    "produtos = ['iphone', 'galaxy', 'ipad', 'tv', 'máquina de café', 'kindle', 'geladeira', 'adega', 'notebook dell', 'notebook hp', 'notebook asus', 'microsoft surface', 'webcam', 'caixa de som', 'microfone', 'câmera canon']\n",
    "vendas2019 = [558147,712350,573823,405252,718654,531580,973139,892292,422760,154753,887061,438508,237467,489705,328311,591120]\n",
    "vendas2020 = [951642,244295,26964,787604,867660,78830,710331,646016,694913,539704,324831,667179,295633,725316,644622,994303]\n",
    "for i, prd in enumerate(produtos):\n",
    "    print(f' O produto \\'{prd}\\' vendeu {vendas2019[i]} unidades em 2019 e {vendas2020[i]} em 2020,' +\n",
    "          f' tendo uma variação de {(vendas2020[i]/vendas2019[i] - 1):.2%} entre 2019 e 2020.\\n'.format())"
   ]
  }
 ],
 "metadata": {
  "kernelspec": {
   "display_name": "Python 3",
   "language": "python",
   "name": "python3"
  },
  "language_info": {
   "codemirror_mode": {
    "name": "ipython",
    "version": 3
   },
   "file_extension": ".py",
   "mimetype": "text/x-python",
   "name": "python",
   "nbconvert_exporter": "python",
   "pygments_lexer": "ipython3",
   "version": "3.8.5"
  }
 },
 "nbformat": 4,
 "nbformat_minor": 4
}
