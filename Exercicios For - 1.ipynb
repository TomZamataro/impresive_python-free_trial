{
 "cells": [
  {
   "cell_type": "markdown",
   "metadata": {},
   "source": [
    "# Estrutura de Repetição: for\n",
    "\n",
    "### Funcionamento:"
   ]
  },
  {
   "cell_type": "raw",
   "metadata": {},
   "source": [
    "for i in range(n):\n",
    "    repetir código n vezes"
   ]
  },
  {
   "cell_type": "code",
   "execution_count": null,
   "metadata": {},
   "outputs": [],
   "source": []
  },
  {
   "cell_type": "markdown",
   "metadata": {},
   "source": [
    "- Imagine que você está construindo uma automação para enviar todo dia por e-mail um resumo da produção de uma fábrica. Construa um código que exiba a quantidade produzida de cada os produto nesse \"e-mail\""
   ]
  },
  {
   "cell_type": "code",
   "execution_count": 8,
   "metadata": {},
   "outputs": [
    {
     "name": "stdout",
     "output_type": "stream",
     "text": [
      " Resumo diario de produção da fabrica:\n",
      "\n",
      "  - 15000 unidades do produto 'coca' fabricadas no dia de hoje;\n",
      "  - 12000 unidades do produto 'pepsi' fabricadas no dia de hoje;\n",
      "  - 13000 unidades do produto 'guarana' fabricadas no dia de hoje;\n",
      "  - 5000 unidades do produto 'sprite' fabricadas no dia de hoje;\n",
      "  - 250 unidades do produto 'fanta' fabricadas no dia de hoje.\n",
      "\n"
     ]
    }
   ],
   "source": [
    "produtos = ['coca', 'pepsi', 'guarana', 'sprite', 'fanta']\n",
    "producao = [15000, 12000, 13000, 5000, 250]\n",
    "email = ' Resumo diario de produção da fabrica:\\n'\n",
    "if len(produtos) == len(producao):\n",
    "    for i in range(len(produtos)):\n",
    "        email += f'\\n  - {producao[i]} unidades do produto \\'{produtos[i]}\\' fabricadas no dia de hoje'\n",
    "        if i == (len(produtos) - 1): email += '.\\n'\n",
    "        else: email += ';'\n",
    "print(email)"
   ]
  }
 ],
 "metadata": {
  "kernelspec": {
   "display_name": "Python 3",
   "language": "python",
   "name": "python3"
  },
  "language_info": {
   "codemirror_mode": {
    "name": "ipython",
    "version": 3
   },
   "file_extension": ".py",
   "mimetype": "text/x-python",
   "name": "python",
   "nbconvert_exporter": "python",
   "pygments_lexer": "ipython3",
   "version": "3.8.5"
  }
 },
 "nbformat": 4,
 "nbformat_minor": 4
}
