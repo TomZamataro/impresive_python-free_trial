{
 "cells": [
  {
   "cell_type": "markdown",
   "metadata": {},
   "source": [
    "# Exercícios\n",
    "\n",
    "## 1. Faturamento do Melhor e do Pior Mês do Ano\n",
    "\n",
    "Qual foi o valor de vendas do melhor mês do Ano?\n",
    "E valor do pior mês do ano?"
   ]
  },
  {
   "cell_type": "code",
   "execution_count": 115,
   "metadata": {},
   "outputs": [
    {
     "name": "stdout",
     "output_type": "stream",
     "text": [
      " O melhor mês do ano foi nov, com R$49,051.00 como valor de vendas.\n",
      " e o pior mês do ano foi dez, com 9,650.00\n"
     ]
    }
   ],
   "source": [
    "meses = ['jan', 'fev', 'mar', 'abr', 'mai', 'jun', 'jul', 'ago', 'set', 'out', 'nov', 'dez']\n",
    "vendas_1sem = [25000, 29000, 22200, 17750, 15870, 19900]\n",
    "vendas_2sem = [19850, 20120, 17540, 15555, 49051, 9650]\n",
    "yearSales = vendas_1sem + vendas_2sem\n",
    "bestMonth = meses[yearSales.index(max(yearSales))]\n",
    "bestMonthValue = max(yearSales)\n",
    "worstMonth = meses[yearSales.index(min(yearSales))]\n",
    "worstMonthValue = min(yearSales)\n",
    "print(f' O melhor mês do ano foi {bestMonth},' +\n",
    "      f' com R${bestMonthValue:,.2f} como valor de vendas.\\n' +\n",
    "      f' e o pior mês do ano foi {worstMonth}, com {worstMonthValue:,.2f}'.format())\n"
   ]
  },
  {
   "cell_type": "markdown",
   "metadata": {},
   "source": [
    "## 2. Continuação\n",
    "\n",
    "Agora relacione as duas listas para printar 'O melhor mês do ano foi {} com {} vendas' e o mesmo para o pior mês do ano.\n",
    "\n",
    "Calcule também o faturamento total do Ano e quanto que o melhor mês representou do faturamento total.\n",
    "\n",
    "Obs: Para o faturamento total, pode usar a função sum(lista) que soma todos os itens de uma lista"
   ]
  },
  {
   "cell_type": "code",
   "execution_count": 116,
   "metadata": {},
   "outputs": [
    {
     "name": "stdout",
     "output_type": "stream",
     "text": [
      " O faturamento total do ano foi de R$261,486.00, e o melhor mês, nov, foi responsavel por 18.76% do faturamento total\n"
     ]
    }
   ],
   "source": [
    "print(f' O faturamento total do ano foi de R${sum(yearSales):,.2f},' +\n",
    "      f' e o melhor mês, {bestMonth},' +\n",
    "      f' foi responsavel por {(100 * max(yearSales) / sum(yearSales) / 100):.2%} do faturamento total')"
   ]
  },
  {
   "cell_type": "markdown",
   "metadata": {},
   "source": [
    "## 3. Crie uma lista com o top 3 valores de vendas do ano (sem fazer \"no olho\")\n",
    "\n",
    "Dica: o método remove retira um item da lista."
   ]
  },
  {
   "cell_type": "code",
   "execution_count": 118,
   "metadata": {},
   "outputs": [
    {
     "name": "stdout",
     "output_type": "stream",
     "text": [
      "[49051, 29000, 25000]\n",
      "[25000, 29000, 22200, 17750, 15870, 19900, 19850, 20120, 17540, 15555, 49051, 9650]\n"
     ]
    }
   ],
   "source": [
    "# top3 = [yearSales.pop(yearSales.index(max(yearSales))), \n",
    "#         yearSales.pop(yearSales.index(max(yearSales))), \n",
    "#         yearSales.pop(yearSales.index(max(yearSales)))]\n",
    "top3 = yearSales.copy()\n",
    "top3.sort(reverse = True)\n",
    "top3 = top3[:3]\n",
    "print(top3)\n",
    "print(yearSales)"
   ]
  }
 ],
 "metadata": {
  "kernelspec": {
   "display_name": "Python 3",
   "language": "python",
   "name": "python3"
  },
  "language_info": {
   "codemirror_mode": {
    "name": "ipython",
    "version": 3
   },
   "file_extension": ".py",
   "mimetype": "text/x-python",
   "name": "python",
   "nbconvert_exporter": "python",
   "pygments_lexer": "ipython3",
   "version": "3.8.5"
  }
 },
 "nbformat": 4,
 "nbformat_minor": 4
}
